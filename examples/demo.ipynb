{
 "cells": [
  {
   "attachments": {},
   "cell_type": "markdown",
   "metadata": {},
   "source": [
    "import packages"
   ]
  },
  {
   "cell_type": "code",
   "execution_count": 1,
   "metadata": {},
   "outputs": [
    {
     "name": "stderr",
     "output_type": "stream",
     "text": [
      "c:\\Users\\Caner\\anaconda3\\envs\\m5\\lib\\site-packages\\tqdm\\auto.py:22: TqdmWarning: IProgress not found. Please update jupyter and ipywidgets. See https://ipywidgets.readthedocs.io/en/stable/user_install.html\n",
      "  from .autonotebook import tqdm as notebook_tqdm\n"
     ]
    }
   ],
   "source": [
    "import mlflow\n",
    "from forecastflowml.meta_model import MetaModel\n",
    "from forecastflowml.data.loader import load_walmart_m5\n",
    "from pyspark.sql import SparkSession"
   ]
  },
  {
   "attachments": {},
   "cell_type": "markdown",
   "metadata": {},
   "source": [
    "create spark session"
   ]
  },
  {
   "cell_type": "code",
   "execution_count": 2,
   "metadata": {},
   "outputs": [],
   "source": [
    "spark = (\n",
    "    SparkSession.builder.master(\"local[*]\")\n",
    "    .config(\"spark.driver.memory\", \"16g\")\n",
    "    .config(\"spark.sql.execution.arrow.enabled\", \"true\")\n",
    "    .config('spark.sql.adaptive.enabled', 'false')\n",
    "    .getOrCreate()\n",
    ")"
   ]
  },
  {
   "attachments": {},
   "cell_type": "markdown",
   "metadata": {},
   "source": [
    "load sample data from forecasterflow"
   ]
  },
  {
   "cell_type": "code",
   "execution_count": 3,
   "metadata": {},
   "outputs": [],
   "source": [
    "df_train, df_test = load_walmart_m5(spark)"
   ]
  },
  {
   "attachments": {},
   "cell_type": "markdown",
   "metadata": {},
   "source": [
    "examine lag features include pattern of lag_{i}"
   ]
  },
  {
   "attachments": {},
   "cell_type": "markdown",
   "metadata": {},
   "source": [
    "model will filter lags (using regex pattern of lag_{i}) based on the model forecast horizon"
   ]
  },
  {
   "attachments": {},
   "cell_type": "markdown",
   "metadata": {},
   "source": [
    "example: if model horizon is [1, 2, 3] and feature_lag_range = 2, then lag_3, lag_4 and lag_5 will be used as features."
   ]
  },
  {
   "cell_type": "code",
   "execution_count": 4,
   "metadata": {},
   "outputs": [
    {
     "name": "stdout",
     "output_type": "stream",
     "text": [
      "['d', 'id', 'item_id', 'dept_id', 'cat_id', 'store_id', 'state_id', 'sales', 'date', 'item_store_window_1_lag_7_mean', 'item_store_window_1_lag_8_mean', 'item_store_window_1_lag_9_mean', 'item_store_window_1_lag_14_mean', 'item_store_window_1_lag_15_mean', 'item_store_window_1_lag_16_mean', 'item_store_window_1_lag_21_mean', 'item_store_window_1_lag_22_mean', 'item_store_window_1_lag_23_mean', 'item_store_window_1_lag_28_mean', 'item_store_window_1_lag_29_mean', 'item_store_window_1_lag_30_mean', 'item_store_window_7_lag_7_mean', 'item_store_window_7_lag_14_mean', 'item_store_window_7_lag_21_mean', 'item_store_window_7_lag_28_mean', 'item_store_window_15_lag_7_mean', 'item_store_window_15_lag_14_mean', 'item_store_window_15_lag_21_mean', 'item_store_window_15_lag_28_mean', 'item_store_window_30_lag_7_mean', 'item_store_window_30_lag_14_mean', 'item_store_window_30_lag_21_mean', 'item_store_window_30_lag_28_mean', 'item_store_window_90_lag_7_mean', 'item_store_window_90_lag_14_mean', 'item_store_window_90_lag_21_mean', 'item_store_window_90_lag_28_mean', 'day_of_week', 'day_of_month', 'week_of_year', 'month', 'year']\n"
     ]
    }
   ],
   "source": [
    "print(df_train.columns)"
   ]
  },
  {
   "attachments": {},
   "cell_type": "markdown",
   "metadata": {},
   "source": [
    "define optuna hyperparameter space"
   ]
  },
  {
   "cell_type": "code",
   "execution_count": 5,
   "metadata": {},
   "outputs": [],
   "source": [
    "def hyperparam_space_fn(trial):\n",
    "    return {\n",
    "        \"learning_rate\": trial.suggest_float(\"learning_rate\", 0.2, 0.3),\n",
    "        \"num_leaves\": trial.suggest_int(\"num_leaves\", 30, 40),\n",
    "    }"
   ]
  },
  {
   "attachments": {},
   "cell_type": "markdown",
   "metadata": {},
   "source": [
    "initialize the model"
   ]
  },
  {
   "cell_type": "code",
   "execution_count": 6,
   "metadata": {},
   "outputs": [],
   "source": [
    "model = MetaModel(\n",
    "    # dataset parameters\n",
    "    group_col=\"cat_id\",  # column to slice dataframe\n",
    "    id_cols=[\"id\"],  # columns to use as time series identifier\n",
    "    date_col=\"date\",  # date column\n",
    "    target_col=\"sales\",  # target column\n",
    "    date_frequency=\"days\",  # date frequency of dataset\n",
    "\n",
    "    # model parameters\n",
    "    model_horizon=7,  # horizon per model\n",
    "    max_forecast_horizon=7*4,  # total forecast horizon\n",
    "    lag_feature_range=2,  # \n",
    "\n",
    "    # cross validation and optimisation parameters\n",
    "    n_cv_splits=3,  # number of time-based cv splits\n",
    "    cv_step_length=7*4,  # number of dates between each cv folds\n",
    "    max_hyperparam_evals=2,  # total number of optuna trials\n",
    "    scoring=\"neg_mean_squared_error\",  # sklearn scoring metric\n",
    "    hyperparam_space_fn=hyperparam_space_fn,  # optuna hyperparameter space\n",
    "\n",
    "    # mlflow parameters\n",
    "    tracking_uri=\"./mlruns\",  # Mlflow tracking URI\n",
    ")"
   ]
  },
  {
   "attachments": {},
   "cell_type": "markdown",
   "metadata": {},
   "source": [
    "train model"
   ]
  },
  {
   "cell_type": "code",
   "execution_count": 7,
   "metadata": {},
   "outputs": [
    {
     "name": "stderr",
     "output_type": "stream",
     "text": [
      "2023/02/01 03:35:34 WARNING mlflow.utils.requirements_utils: The following packages were not found in the public PyPI package index as of 2022-12-21; if these packages are not present in the public PyPI index, you must install them manually before loading your model: {'forecastflowml'}\n",
      "c:\\Users\\Caner\\anaconda3\\envs\\m5\\lib\\site-packages\\_distutils_hack\\__init__.py:33: UserWarning: Setuptools is replacing distutils.\n",
      "  warnings.warn(\"Setuptools is replacing distutils.\")\n",
      "c:\\Users\\Caner\\anaconda3\\envs\\m5\\lib\\site-packages\\pyspark\\sql\\pandas\\group_ops.py:98: UserWarning: It is preferred to use 'applyInPandas' over this API. This API will be deprecated in the future releases. See SPARK-28264 for more details.\n",
      "  warnings.warn(\n"
     ]
    }
   ],
   "source": [
    "model.train(df_train)"
   ]
  },
  {
   "attachments": {},
   "cell_type": "markdown",
   "metadata": {},
   "source": [
    "load model"
   ]
  },
  {
   "cell_type": "code",
   "execution_count": null,
   "metadata": {},
   "outputs": [],
   "source": [
    "model = mlflow.pyfunc.load_model(f\"runs:/{model.run_id}/meta_model\")"
   ]
  },
  {
   "attachments": {},
   "cell_type": "markdown",
   "metadata": {},
   "source": [
    "predict and save results"
   ]
  },
  {
   "cell_type": "code",
   "execution_count": null,
   "metadata": {},
   "outputs": [],
   "source": [
    "model.predict(df_test).write.parquet(\"forecast\")"
   ]
  }
 ],
 "metadata": {
  "kernelspec": {
   "display_name": "m5",
   "language": "python",
   "name": "python3"
  },
  "language_info": {
   "codemirror_mode": {
    "name": "ipython",
    "version": 3
   },
   "file_extension": ".py",
   "mimetype": "text/x-python",
   "name": "python",
   "nbconvert_exporter": "python",
   "pygments_lexer": "ipython3",
   "version": "3.9.15"
  },
  "orig_nbformat": 4,
  "vscode": {
   "interpreter": {
    "hash": "155d65c06d77772f16541b02c790f744fbdd0ce5732421ca817a62232ad645b8"
   }
  }
 },
 "nbformat": 4,
 "nbformat_minor": 2
}
