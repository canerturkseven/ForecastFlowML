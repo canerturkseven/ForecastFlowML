{
 "cells": [
  {
   "attachments": {},
   "cell_type": "markdown",
   "metadata": {},
   "source": [
    "import packages"
   ]
  },
  {
   "cell_type": "code",
   "execution_count": 1,
   "metadata": {},
   "outputs": [
    {
     "ename": "ModuleNotFoundError",
     "evalue": "No module named 'forecasterflow'",
     "output_type": "error",
     "traceback": [
      "\u001b[1;31m---------------------------------------------------------------------------\u001b[0m",
      "\u001b[1;31mModuleNotFoundError\u001b[0m                       Traceback (most recent call last)",
      "Cell \u001b[1;32mIn[1], line 2\u001b[0m\n\u001b[0;32m      1\u001b[0m \u001b[39mimport\u001b[39;00m \u001b[39mmlflow\u001b[39;00m\n\u001b[1;32m----> 2\u001b[0m \u001b[39mfrom\u001b[39;00m \u001b[39mforecasterflow\u001b[39;00m\u001b[39m.\u001b[39;00m\u001b[39mmeta_model\u001b[39;00m \u001b[39mimport\u001b[39;00m MetaModel\n\u001b[0;32m      3\u001b[0m \u001b[39mfrom\u001b[39;00m \u001b[39mforecasterflow\u001b[39;00m\u001b[39m.\u001b[39;00m\u001b[39mdata\u001b[39;00m\u001b[39m.\u001b[39;00m\u001b[39mloader\u001b[39;00m \u001b[39mimport\u001b[39;00m load_walmart_m5\n\u001b[0;32m      4\u001b[0m \u001b[39mfrom\u001b[39;00m \u001b[39mpyspark\u001b[39;00m\u001b[39m.\u001b[39;00m\u001b[39msql\u001b[39;00m \u001b[39mimport\u001b[39;00m SparkSession\n",
      "\u001b[1;31mModuleNotFoundError\u001b[0m: No module named 'forecasterflow'"
     ]
    }
   ],
   "source": [
    "import mlflow\n",
    "from forecastflowml.meta_model import MetaModel\n",
    "from forecastflowml.data.loader import load_walmart_m5\n",
    "from pyspark.sql import SparkSession"
   ]
  },
  {
   "attachments": {},
   "cell_type": "markdown",
   "metadata": {},
   "source": [
    "create spark session"
   ]
  },
  {
   "cell_type": "code",
   "execution_count": 2,
   "metadata": {},
   "outputs": [],
   "source": [
    "spark = (\n",
    "    SparkSession.builder.master(\"local[*]\")\n",
    "    .config(\"spark.driver.memory\", \"16g\")\n",
    "    .config(\"spark.sql.execution.arrow.enabled\", \"true\")\n",
    "    .getOrCreate()\n",
    ")"
   ]
  },
  {
   "attachments": {},
   "cell_type": "markdown",
   "metadata": {},
   "source": [
    "load sample data from forecasterflow"
   ]
  },
  {
   "cell_type": "code",
   "execution_count": null,
   "metadata": {},
   "outputs": [],
   "source": [
    "df_train, df_test = load_walmart_m5(spark)"
   ]
  },
  {
   "attachments": {},
   "cell_type": "markdown",
   "metadata": {},
   "source": [
    "examine lag features include pattern of lag_{i}"
   ]
  },
  {
   "attachments": {},
   "cell_type": "markdown",
   "metadata": {},
   "source": [
    "model will filter lags (using regex pattern of lag_{i}) based on the model forecast horizon"
   ]
  },
  {
   "attachments": {},
   "cell_type": "markdown",
   "metadata": {},
   "source": [
    "example: if model horizon is [1, 2, 3] and lag_range = 2, then lag_3, lag_4 and lag_5 will be used as features."
   ]
  },
  {
   "cell_type": "code",
   "execution_count": 3,
   "metadata": {},
   "outputs": [
    {
     "name": "stdout",
     "output_type": "stream",
     "text": [
      "dataset columns : ['d', 'id', 'item_id', 'dept_id', 'cat_id', 'store_id', 'state_id', 'sales', 'date', 'Snap_CA', 'Snap_TX', 'Snap_WI', 'item_store_window_1_lag_7_mean', 'item_store_window_1_lag_8_mean', 'item_store_window_1_lag_9_mean', 'item_store_window_1_lag_14_mean', 'item_store_window_1_lag_15_mean', 'item_store_window_1_lag_16_mean', 'item_store_window_1_lag_21_mean', 'item_store_window_1_lag_22_mean', 'item_store_window_1_lag_23_mean', 'item_store_window_1_lag_28_mean', 'item_store_window_1_lag_29_mean', 'item_store_window_1_lag_30_mean', 'item_store_window_7_lag_7_mean', 'item_store_window_7_lag_14_mean', 'item_store_window_7_lag_21_mean', 'item_store_window_7_lag_28_mean', 'item_store_window_15_lag_7_mean', 'item_store_window_15_lag_14_mean', 'item_store_window_15_lag_21_mean', 'item_store_window_15_lag_28_mean', 'item_store_window_30_lag_7_mean', 'item_store_window_30_lag_14_mean', 'item_store_window_30_lag_21_mean', 'item_store_window_30_lag_28_mean', 'item_store_window_90_lag_7_mean', 'item_store_window_90_lag_14_mean', 'item_store_window_90_lag_21_mean', 'item_store_window_90_lag_28_mean', 'day_of_week', 'day_of_month', 'week_of_year', 'month', 'year']\n"
     ]
    }
   ],
   "source": [
    "print(*df_train.columns)"
   ]
  },
  {
   "attachments": {},
   "cell_type": "markdown",
   "metadata": {},
   "source": [
    "define optuna hyperparameter space"
   ]
  },
  {
   "cell_type": "code",
   "execution_count": null,
   "metadata": {},
   "outputs": [],
   "source": [
    "def hyperparam_space_fn(trial):\n",
    "    return {\n",
    "        \"learning_rate\": trial.suggest_float(\"learning_rate\", 0.05, 0.3),\n",
    "        \"num_leaves\": trial.suggest_int(\"num_leaves\", 30, 80),\n",
    "    }"
   ]
  },
  {
   "attachments": {},
   "cell_type": "markdown",
   "metadata": {},
   "source": [
    "initialize the model"
   ]
  },
  {
   "cell_type": "code",
   "execution_count": null,
   "metadata": {},
   "outputs": [],
   "source": [
    "model = MetaModel(\n",
    "    # dataset parameters\n",
    "    group_col=\"cat_id\",  # column to slice dataframe\n",
    "    id_cols=[\"id\"],  # columns to use as time series identifier\n",
    "    date_col=\"date\",  # date column\n",
    "    target_col=\"sales\",  # target column\n",
    "    date_frequency=\"days\",  # date frequency of dataset\n",
    "\n",
    "    # model parameters\n",
    "    model_horizon=7,  # horizon per model\n",
    "    max_forecast_horizon=7*4,  # total forecast horizon\n",
    "    feature_lag_range=2, \n",
    "\n",
    "    # cross validation and optimisation parameters\n",
    "    n_cv_splits=4,  # number of time-based cv splits\n",
    "    cv_step_length=7*4  # number of dates between each cv folds\n",
    "    max_hyperparam_evals=10,  # total number of optuna trials\n",
    "    scoring=\"neg_mean_squared_error\",  # sklearn scoring metric\n",
    "    hyperparam_space_fn=hyperparam_space_fn,  # optuna hyperparameter space\n",
    "\n",
    "    # mlflow parameters\n",
    "    tracking_uri=\"./mlruns\",  # Mlflow tracking URI can be local or remote\n",
    ")"
   ]
  },
  {
   "attachments": {},
   "cell_type": "markdown",
   "metadata": {},
   "source": [
    "train model"
   ]
  },
  {
   "cell_type": "code",
   "execution_count": null,
   "metadata": {},
   "outputs": [],
   "source": [
    "model.train(df_train)"
   ]
  },
  {
   "attachments": {},
   "cell_type": "markdown",
   "metadata": {},
   "source": [
    "load model"
   ]
  },
  {
   "cell_type": "code",
   "execution_count": null,
   "metadata": {},
   "outputs": [],
   "source": [
    "model = mlflow.pyfunc.load_model(f\"runs:/{model.run_id}/meta_model\")"
   ]
  },
  {
   "attachments": {},
   "cell_type": "markdown",
   "metadata": {},
   "source": [
    "predict and save results"
   ]
  },
  {
   "cell_type": "code",
   "execution_count": null,
   "metadata": {},
   "outputs": [],
   "source": [
    "model.predict(df_test).write.parquet(forecast.parquet)"
   ]
  }
 ],
 "metadata": {
  "kernelspec": {
   "display_name": "m5",
   "language": "python",
   "name": "python3"
  },
  "language_info": {
   "codemirror_mode": {
    "name": "ipython",
    "version": 3
   },
   "file_extension": ".py",
   "mimetype": "text/x-python",
   "name": "python",
   "nbconvert_exporter": "python",
   "pygments_lexer": "ipython3",
   "version": "3.9.15"
  },
  "orig_nbformat": 4,
  "vscode": {
   "interpreter": {
    "hash": "155d65c06d77772f16541b02c790f744fbdd0ce5732421ca817a62232ad645b8"
   }
  }
 },
 "nbformat": 4,
 "nbformat_minor": 2
}
