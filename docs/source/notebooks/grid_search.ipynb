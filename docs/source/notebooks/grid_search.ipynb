{
 "cells": [
  {
   "attachments": {},
   "cell_type": "markdown",
   "metadata": {
    "application/vnd.databricks.v1+cell": {
     "cellMetadata": {},
     "inputWidgets": {},
     "nuid": "a02bb3a2-e5d7-4d14-b966-827457675b75",
     "showTitle": false,
     "title": ""
    }
   },
   "source": [
    "# Grid Search\n",
    "\n",
    "This quick guide shows how grid search can be used to find the best hyperparameters for ``ForecastFlowML``."
   ]
  },
  {
   "attachments": {},
   "cell_type": "markdown",
   "metadata": {},
   "source": [
    "## Import packages"
   ]
  },
  {
   "cell_type": "code",
   "execution_count": 5,
   "metadata": {},
   "outputs": [],
   "source": [
    "from forecastflowml.meta_model import ForecastFlowML\n",
    "from forecastflowml.preprocessing import FeatureExtractor\n",
    "from forecastflowml.data.loader import load_walmart_m5\n",
    "from lightgbm import LGBMRegressor\n",
    "from pyspark.sql import SparkSession\n",
    "import pyspark.sql.functions as F"
   ]
  },
  {
   "attachments": {},
   "cell_type": "markdown",
   "metadata": {},
   "source": [
    "## Initialize Spark"
   ]
  },
  {
   "cell_type": "code",
   "execution_count": 6,
   "metadata": {},
   "outputs": [],
   "source": [
    "spark = (\n",
    "    SparkSession.builder.master(\"local[4]\")\n",
    "    .config(\"spark.driver.memory\", \"8g\")\n",
    "    .config(\"spark.sql.shuffle.partitions\", \"4\")\n",
    "    .config(\"spark.sql.execution.arrow.enabled\", \"true\")\n",
    "    .getOrCreate()\n",
    ")"
   ]
  },
  {
   "attachments": {},
   "cell_type": "markdown",
   "metadata": {},
   "source": [
    "## Sample Dataset"
   ]
  },
  {
   "cell_type": "code",
   "execution_count": 7,
   "metadata": {},
   "outputs": [
    {
     "name": "stdout",
     "output_type": "stream",
     "text": [
      "+--------------------+-----------+-------+------+--------+--------+----------+-----+\n",
      "|                  id|    item_id|dept_id|cat_id|store_id|state_id|      date|sales|\n",
      "+--------------------+-----------+-------+------+--------+--------+----------+-----+\n",
      "|FOODS_1_013_TX_2_...|FOODS_1_013|FOODS_1| FOODS|    TX_2|      TX|2011-01-29|  2.0|\n",
      "|FOODS_1_013_TX_2_...|FOODS_1_013|FOODS_1| FOODS|    TX_2|      TX|2011-01-30|  5.0|\n",
      "|FOODS_1_013_TX_2_...|FOODS_1_013|FOODS_1| FOODS|    TX_2|      TX|2011-01-31|  3.0|\n",
      "|FOODS_1_013_TX_2_...|FOODS_1_013|FOODS_1| FOODS|    TX_2|      TX|2011-02-01|  0.0|\n",
      "|FOODS_1_013_TX_2_...|FOODS_1_013|FOODS_1| FOODS|    TX_2|      TX|2011-02-02|  0.0|\n",
      "|FOODS_1_013_TX_2_...|FOODS_1_013|FOODS_1| FOODS|    TX_2|      TX|2011-02-03|  0.0|\n",
      "|FOODS_1_013_TX_2_...|FOODS_1_013|FOODS_1| FOODS|    TX_2|      TX|2011-02-04|  0.0|\n",
      "|FOODS_1_013_TX_2_...|FOODS_1_013|FOODS_1| FOODS|    TX_2|      TX|2011-02-05|  1.0|\n",
      "|FOODS_1_013_TX_2_...|FOODS_1_013|FOODS_1| FOODS|    TX_2|      TX|2011-02-06|  0.0|\n",
      "|FOODS_1_013_TX_2_...|FOODS_1_013|FOODS_1| FOODS|    TX_2|      TX|2011-02-07|  3.0|\n",
      "+--------------------+-----------+-------+------+--------+--------+----------+-----+\n",
      "only showing top 10 rows\n",
      "\n"
     ]
    }
   ],
   "source": [
    "df = load_walmart_m5(spark)\n",
    "df.show(10)"
   ]
  },
  {
   "attachments": {},
   "cell_type": "markdown",
   "metadata": {},
   "source": [
    "## Feature Engineering"
   ]
  },
  {
   "cell_type": "code",
   "execution_count": 8,
   "metadata": {},
   "outputs": [
    {
     "name": "stdout",
     "output_type": "stream",
     "text": [
      "+--------------------+-----------+-------+------+--------+--------+----------+-----+-----+------+------+------+\n",
      "|                  id|    item_id|dept_id|cat_id|store_id|state_id|      date|sales|lag_7|lag_14|lag_21|lag_28|\n",
      "+--------------------+-----------+-------+------+--------+--------+----------+-----+-----+------+------+------+\n",
      "|FOODS_1_011_WI_2_...|FOODS_1_011|FOODS_1| FOODS|    WI_2|      WI|2011-01-31|  2.0| null|  null|  null|  null|\n",
      "|FOODS_1_011_WI_2_...|FOODS_1_011|FOODS_1| FOODS|    WI_2|      WI|2011-02-01|  0.0| null|  null|  null|  null|\n",
      "|FOODS_1_011_WI_2_...|FOODS_1_011|FOODS_1| FOODS|    WI_2|      WI|2011-02-02|  0.0| null|  null|  null|  null|\n",
      "|FOODS_1_011_WI_2_...|FOODS_1_011|FOODS_1| FOODS|    WI_2|      WI|2011-02-03|  0.0| null|  null|  null|  null|\n",
      "|FOODS_1_011_WI_2_...|FOODS_1_011|FOODS_1| FOODS|    WI_2|      WI|2011-02-04|  0.0| null|  null|  null|  null|\n",
      "|FOODS_1_011_WI_2_...|FOODS_1_011|FOODS_1| FOODS|    WI_2|      WI|2011-02-05|  0.0| null|  null|  null|  null|\n",
      "|FOODS_1_011_WI_2_...|FOODS_1_011|FOODS_1| FOODS|    WI_2|      WI|2011-02-06|  1.0| null|  null|  null|  null|\n",
      "|FOODS_1_011_WI_2_...|FOODS_1_011|FOODS_1| FOODS|    WI_2|      WI|2011-02-07|  0.0|  2.0|  null|  null|  null|\n",
      "|FOODS_1_011_WI_2_...|FOODS_1_011|FOODS_1| FOODS|    WI_2|      WI|2011-02-08|  0.0|  0.0|  null|  null|  null|\n",
      "|FOODS_1_011_WI_2_...|FOODS_1_011|FOODS_1| FOODS|    WI_2|      WI|2011-02-09|  0.0|  0.0|  null|  null|  null|\n",
      "+--------------------+-----------+-------+------+--------+--------+----------+-----+-----+------+------+------+\n",
      "only showing top 10 rows\n",
      "\n"
     ]
    }
   ],
   "source": [
    "feature_extractor = FeatureExtractor(\n",
    "    id_col=\"id\",\n",
    "    date_col=\"date\",\n",
    "    target_col=\"sales\",\n",
    "    lag_window_features={\n",
    "        \"lag\": [7 * (i + 1) for i in range(4)],\n",
    "    },\n",
    ")\n",
    "df_features = feature_extractor.transform(df).localCheckpoint()\n",
    "df_features.show(10)"
   ]
  },
  {
   "attachments": {},
   "cell_type": "markdown",
   "metadata": {},
   "source": [
    "## Train/Test Dataset"
   ]
  },
  {
   "cell_type": "code",
   "execution_count": 9,
   "metadata": {},
   "outputs": [],
   "source": [
    "df_train = df_features.filter(F.col(\"date\") < \"2016-04-25\")\n",
    "df_test = df_features.filter(F.col(\"date\") >= \"2016-04-25\")"
   ]
  },
  {
   "attachments": {},
   "cell_type": "markdown",
   "metadata": {},
   "source": [
    "## Initialize Model"
   ]
  },
  {
   "cell_type": "code",
   "execution_count": 10,
   "metadata": {},
   "outputs": [],
   "source": [
    "forecast_flow = ForecastFlowML(\n",
    "    group_col=\"store_id\",\n",
    "    id_col=\"id\",\n",
    "    date_col=\"date\",\n",
    "    target_col=\"sales\",\n",
    "    date_frequency=\"days\",\n",
    "    model_horizon=7,\n",
    "    max_forecast_horizon=28,\n",
    "    model=LGBMRegressor(),\n",
    ")"
   ]
  },
  {
   "attachments": {},
   "cell_type": "markdown",
   "metadata": {},
   "source": [
    "## Search Hyperparameters with Grid Search"
   ]
  },
  {
   "cell_type": "code",
   "execution_count": 11,
   "metadata": {},
   "outputs": [
    {
     "name": "stderr",
     "output_type": "stream",
     "text": [
      "C:\\spark-3.0.0-bin-hadoop3.2\\python\\pyspark\\sql\\pandas\\group_ops.py:76: UserWarning: It is preferred to use 'applyInPandas' over this API. This API will be deprecated in the future releases. See SPARK-28264 for more details.\n",
      "  \"more details.\", UserWarning)\n"
     ]
    },
    {
     "data": {
      "text/html": [
       "<div>\n",
       "<style scoped>\n",
       "    .dataframe tbody tr th:only-of-type {\n",
       "        vertical-align: middle;\n",
       "    }\n",
       "\n",
       "    .dataframe tbody tr th {\n",
       "        vertical-align: top;\n",
       "    }\n",
       "\n",
       "    .dataframe thead th {\n",
       "        text-align: right;\n",
       "    }\n",
       "</style>\n",
       "<table border=\"1\" class=\"dataframe\">\n",
       "  <thead>\n",
       "    <tr style=\"text-align: right;\">\n",
       "      <th></th>\n",
       "      <th>group</th>\n",
       "      <th>score</th>\n",
       "      <th>n_estimators</th>\n",
       "      <th>num_leaves</th>\n",
       "    </tr>\n",
       "  </thead>\n",
       "  <tbody>\n",
       "    <tr>\n",
       "      <th>0</th>\n",
       "      <td>WI_3</td>\n",
       "      <td>-7.672328</td>\n",
       "      <td>100</td>\n",
       "      <td>20</td>\n",
       "    </tr>\n",
       "    <tr>\n",
       "      <th>1</th>\n",
       "      <td>WI_3</td>\n",
       "      <td>-7.672407</td>\n",
       "      <td>100</td>\n",
       "      <td>30</td>\n",
       "    </tr>\n",
       "    <tr>\n",
       "      <th>2</th>\n",
       "      <td>WI_3</td>\n",
       "      <td>-7.679507</td>\n",
       "      <td>50</td>\n",
       "      <td>20</td>\n",
       "    </tr>\n",
       "    <tr>\n",
       "      <th>3</th>\n",
       "      <td>WI_3</td>\n",
       "      <td>-7.680971</td>\n",
       "      <td>50</td>\n",
       "      <td>30</td>\n",
       "    </tr>\n",
       "    <tr>\n",
       "      <th>4</th>\n",
       "      <td>WI_2</td>\n",
       "      <td>-15.551556</td>\n",
       "      <td>100</td>\n",
       "      <td>30</td>\n",
       "    </tr>\n",
       "    <tr>\n",
       "      <th>5</th>\n",
       "      <td>WI_2</td>\n",
       "      <td>-15.552167</td>\n",
       "      <td>100</td>\n",
       "      <td>20</td>\n",
       "    </tr>\n",
       "    <tr>\n",
       "      <th>6</th>\n",
       "      <td>WI_2</td>\n",
       "      <td>-15.562159</td>\n",
       "      <td>50</td>\n",
       "      <td>30</td>\n",
       "    </tr>\n",
       "    <tr>\n",
       "      <th>7</th>\n",
       "      <td>WI_2</td>\n",
       "      <td>-15.563983</td>\n",
       "      <td>50</td>\n",
       "      <td>20</td>\n",
       "    </tr>\n",
       "    <tr>\n",
       "      <th>8</th>\n",
       "      <td>WI_1</td>\n",
       "      <td>-3.089326</td>\n",
       "      <td>50</td>\n",
       "      <td>20</td>\n",
       "    </tr>\n",
       "    <tr>\n",
       "      <th>9</th>\n",
       "      <td>WI_1</td>\n",
       "      <td>-3.089694</td>\n",
       "      <td>50</td>\n",
       "      <td>30</td>\n",
       "    </tr>\n",
       "    <tr>\n",
       "      <th>10</th>\n",
       "      <td>WI_1</td>\n",
       "      <td>-3.090162</td>\n",
       "      <td>100</td>\n",
       "      <td>20</td>\n",
       "    </tr>\n",
       "    <tr>\n",
       "      <th>11</th>\n",
       "      <td>WI_1</td>\n",
       "      <td>-3.090177</td>\n",
       "      <td>100</td>\n",
       "      <td>30</td>\n",
       "    </tr>\n",
       "    <tr>\n",
       "      <th>12</th>\n",
       "      <td>TX_3</td>\n",
       "      <td>-4.022983</td>\n",
       "      <td>50</td>\n",
       "      <td>20</td>\n",
       "    </tr>\n",
       "    <tr>\n",
       "      <th>13</th>\n",
       "      <td>TX_3</td>\n",
       "      <td>-4.023282</td>\n",
       "      <td>50</td>\n",
       "      <td>30</td>\n",
       "    </tr>\n",
       "    <tr>\n",
       "      <th>14</th>\n",
       "      <td>TX_3</td>\n",
       "      <td>-4.024268</td>\n",
       "      <td>100</td>\n",
       "      <td>30</td>\n",
       "    </tr>\n",
       "    <tr>\n",
       "      <th>15</th>\n",
       "      <td>TX_3</td>\n",
       "      <td>-4.024287</td>\n",
       "      <td>100</td>\n",
       "      <td>20</td>\n",
       "    </tr>\n",
       "    <tr>\n",
       "      <th>16</th>\n",
       "      <td>TX_2</td>\n",
       "      <td>-5.231347</td>\n",
       "      <td>50</td>\n",
       "      <td>20</td>\n",
       "    </tr>\n",
       "    <tr>\n",
       "      <th>17</th>\n",
       "      <td>TX_2</td>\n",
       "      <td>-5.233020</td>\n",
       "      <td>100</td>\n",
       "      <td>20</td>\n",
       "    </tr>\n",
       "    <tr>\n",
       "      <th>18</th>\n",
       "      <td>TX_2</td>\n",
       "      <td>-5.233411</td>\n",
       "      <td>100</td>\n",
       "      <td>30</td>\n",
       "    </tr>\n",
       "    <tr>\n",
       "      <th>19</th>\n",
       "      <td>TX_2</td>\n",
       "      <td>-5.235687</td>\n",
       "      <td>50</td>\n",
       "      <td>30</td>\n",
       "    </tr>\n",
       "    <tr>\n",
       "      <th>20</th>\n",
       "      <td>TX_1</td>\n",
       "      <td>-2.919884</td>\n",
       "      <td>100</td>\n",
       "      <td>30</td>\n",
       "    </tr>\n",
       "    <tr>\n",
       "      <th>21</th>\n",
       "      <td>TX_1</td>\n",
       "      <td>-2.919890</td>\n",
       "      <td>100</td>\n",
       "      <td>20</td>\n",
       "    </tr>\n",
       "    <tr>\n",
       "      <th>22</th>\n",
       "      <td>TX_1</td>\n",
       "      <td>-2.921720</td>\n",
       "      <td>50</td>\n",
       "      <td>30</td>\n",
       "    </tr>\n",
       "    <tr>\n",
       "      <th>23</th>\n",
       "      <td>TX_1</td>\n",
       "      <td>-2.922150</td>\n",
       "      <td>50</td>\n",
       "      <td>20</td>\n",
       "    </tr>\n",
       "    <tr>\n",
       "      <th>24</th>\n",
       "      <td>CA_4</td>\n",
       "      <td>-1.075275</td>\n",
       "      <td>50</td>\n",
       "      <td>20</td>\n",
       "    </tr>\n",
       "    <tr>\n",
       "      <th>25</th>\n",
       "      <td>CA_4</td>\n",
       "      <td>-1.075275</td>\n",
       "      <td>50</td>\n",
       "      <td>30</td>\n",
       "    </tr>\n",
       "    <tr>\n",
       "      <th>26</th>\n",
       "      <td>CA_4</td>\n",
       "      <td>-1.076186</td>\n",
       "      <td>100</td>\n",
       "      <td>20</td>\n",
       "    </tr>\n",
       "    <tr>\n",
       "      <th>27</th>\n",
       "      <td>CA_4</td>\n",
       "      <td>-1.076186</td>\n",
       "      <td>100</td>\n",
       "      <td>30</td>\n",
       "    </tr>\n",
       "    <tr>\n",
       "      <th>28</th>\n",
       "      <td>CA_3</td>\n",
       "      <td>-8.996762</td>\n",
       "      <td>50</td>\n",
       "      <td>20</td>\n",
       "    </tr>\n",
       "    <tr>\n",
       "      <th>29</th>\n",
       "      <td>CA_3</td>\n",
       "      <td>-9.015521</td>\n",
       "      <td>100</td>\n",
       "      <td>20</td>\n",
       "    </tr>\n",
       "    <tr>\n",
       "      <th>30</th>\n",
       "      <td>CA_3</td>\n",
       "      <td>-9.017587</td>\n",
       "      <td>50</td>\n",
       "      <td>30</td>\n",
       "    </tr>\n",
       "    <tr>\n",
       "      <th>31</th>\n",
       "      <td>CA_3</td>\n",
       "      <td>-9.034521</td>\n",
       "      <td>100</td>\n",
       "      <td>30</td>\n",
       "    </tr>\n",
       "    <tr>\n",
       "      <th>32</th>\n",
       "      <td>CA_2</td>\n",
       "      <td>-3.154929</td>\n",
       "      <td>50</td>\n",
       "      <td>20</td>\n",
       "    </tr>\n",
       "    <tr>\n",
       "      <th>33</th>\n",
       "      <td>CA_2</td>\n",
       "      <td>-3.154943</td>\n",
       "      <td>100</td>\n",
       "      <td>20</td>\n",
       "    </tr>\n",
       "    <tr>\n",
       "      <th>34</th>\n",
       "      <td>CA_2</td>\n",
       "      <td>-3.154943</td>\n",
       "      <td>100</td>\n",
       "      <td>30</td>\n",
       "    </tr>\n",
       "    <tr>\n",
       "      <th>35</th>\n",
       "      <td>CA_2</td>\n",
       "      <td>-3.154972</td>\n",
       "      <td>50</td>\n",
       "      <td>30</td>\n",
       "    </tr>\n",
       "    <tr>\n",
       "      <th>36</th>\n",
       "      <td>CA_1</td>\n",
       "      <td>-5.081527</td>\n",
       "      <td>100</td>\n",
       "      <td>30</td>\n",
       "    </tr>\n",
       "    <tr>\n",
       "      <th>37</th>\n",
       "      <td>CA_1</td>\n",
       "      <td>-5.081554</td>\n",
       "      <td>100</td>\n",
       "      <td>20</td>\n",
       "    </tr>\n",
       "    <tr>\n",
       "      <th>38</th>\n",
       "      <td>CA_1</td>\n",
       "      <td>-5.085750</td>\n",
       "      <td>50</td>\n",
       "      <td>30</td>\n",
       "    </tr>\n",
       "    <tr>\n",
       "      <th>39</th>\n",
       "      <td>CA_1</td>\n",
       "      <td>-5.086866</td>\n",
       "      <td>50</td>\n",
       "      <td>20</td>\n",
       "    </tr>\n",
       "  </tbody>\n",
       "</table>\n",
       "</div>"
      ],
      "text/plain": [
       "   group      score  n_estimators  num_leaves\n",
       "0   WI_3  -7.672328           100          20\n",
       "1   WI_3  -7.672407           100          30\n",
       "2   WI_3  -7.679507            50          20\n",
       "3   WI_3  -7.680971            50          30\n",
       "4   WI_2 -15.551556           100          30\n",
       "5   WI_2 -15.552167           100          20\n",
       "6   WI_2 -15.562159            50          30\n",
       "7   WI_2 -15.563983            50          20\n",
       "8   WI_1  -3.089326            50          20\n",
       "9   WI_1  -3.089694            50          30\n",
       "10  WI_1  -3.090162           100          20\n",
       "11  WI_1  -3.090177           100          30\n",
       "12  TX_3  -4.022983            50          20\n",
       "13  TX_3  -4.023282            50          30\n",
       "14  TX_3  -4.024268           100          30\n",
       "15  TX_3  -4.024287           100          20\n",
       "16  TX_2  -5.231347            50          20\n",
       "17  TX_2  -5.233020           100          20\n",
       "18  TX_2  -5.233411           100          30\n",
       "19  TX_2  -5.235687            50          30\n",
       "20  TX_1  -2.919884           100          30\n",
       "21  TX_1  -2.919890           100          20\n",
       "22  TX_1  -2.921720            50          30\n",
       "23  TX_1  -2.922150            50          20\n",
       "24  CA_4  -1.075275            50          20\n",
       "25  CA_4  -1.075275            50          30\n",
       "26  CA_4  -1.076186           100          20\n",
       "27  CA_4  -1.076186           100          30\n",
       "28  CA_3  -8.996762            50          20\n",
       "29  CA_3  -9.015521           100          20\n",
       "30  CA_3  -9.017587            50          30\n",
       "31  CA_3  -9.034521           100          30\n",
       "32  CA_2  -3.154929            50          20\n",
       "33  CA_2  -3.154943           100          20\n",
       "34  CA_2  -3.154943           100          30\n",
       "35  CA_2  -3.154972            50          30\n",
       "36  CA_1  -5.081527           100          30\n",
       "37  CA_1  -5.081554           100          20\n",
       "38  CA_1  -5.085750            50          30\n",
       "39  CA_1  -5.086866            50          20"
      ]
     },
     "execution_count": 11,
     "metadata": {},
     "output_type": "execute_result"
    }
   ],
   "source": [
    "trials = forecast_flow.grid_search(\n",
    "    df_train,\n",
    "    param_grid={\"n_estimators\": [50, 100], \"num_leaves\": [20, 30]},\n",
    "    n_cv_splits=3,\n",
    "    scoring_metric=\"neg_mean_squared_error\",\n",
    ")\n",
    "trials"
   ]
  },
  {
   "cell_type": "code",
   "execution_count": 12,
   "metadata": {},
   "outputs": [
    {
     "data": {
      "text/plain": [
       "{'CA_1': {'n_estimators': 100, 'num_leaves': 30},\n",
       " 'CA_2': {'n_estimators': 50, 'num_leaves': 20},\n",
       " 'CA_3': {'n_estimators': 50, 'num_leaves': 20},\n",
       " 'CA_4': {'n_estimators': 50, 'num_leaves': 20},\n",
       " 'TX_1': {'n_estimators': 100, 'num_leaves': 30},\n",
       " 'TX_2': {'n_estimators': 50, 'num_leaves': 20},\n",
       " 'TX_3': {'n_estimators': 50, 'num_leaves': 20},\n",
       " 'WI_1': {'n_estimators': 50, 'num_leaves': 20},\n",
       " 'WI_2': {'n_estimators': 100, 'num_leaves': 30},\n",
       " 'WI_3': {'n_estimators': 100, 'num_leaves': 20}}"
      ]
     },
     "execution_count": 12,
     "metadata": {},
     "output_type": "execute_result"
    }
   ],
   "source": [
    "best_trial = trials.groupby(\"group\", group_keys=False).apply(\n",
    "    lambda x: x.sort_values(\"score\", ascending=False).head(1)\n",
    ")\n",
    "best_params = best_trial.set_index(\"group\")[[\"n_estimators\", \"num_leaves\"]].to_dict(\n",
    "    orient=\"index\"\n",
    ")\n",
    "best_params"
   ]
  },
  {
   "cell_type": "code",
   "execution_count": 16,
   "metadata": {},
   "outputs": [
    {
     "data": {
      "text/plain": [
       "{'CA_1': LGBMRegressor(num_leaves=30),\n",
       " 'CA_2': LGBMRegressor(n_estimators=50, num_leaves=20),\n",
       " 'CA_3': LGBMRegressor(n_estimators=50, num_leaves=20),\n",
       " 'CA_4': LGBMRegressor(n_estimators=50, num_leaves=20),\n",
       " 'TX_1': LGBMRegressor(num_leaves=30),\n",
       " 'TX_2': LGBMRegressor(n_estimators=50, num_leaves=20),\n",
       " 'TX_3': LGBMRegressor(n_estimators=50, num_leaves=20),\n",
       " 'WI_1': LGBMRegressor(n_estimators=50, num_leaves=20),\n",
       " 'WI_2': LGBMRegressor(num_leaves=30),\n",
       " 'WI_3': LGBMRegressor(num_leaves=20)}"
      ]
     },
     "execution_count": 16,
     "metadata": {},
     "output_type": "execute_result"
    }
   ],
   "source": [
    "group_models = {k: LGBMRegressor(**v) for k, v in best_params.items()}\n",
    "group_models"
   ]
  },
  {
   "attachments": {},
   "cell_type": "markdown",
   "metadata": {},
   "source": [
    "## Train ForecastFlowML with Optimized Hyperparameters "
   ]
  },
  {
   "cell_type": "code",
   "execution_count": 17,
   "metadata": {},
   "outputs": [],
   "source": [
    "forecast_flow = ForecastFlowML(\n",
    "    group_col=\"store_id\",\n",
    "    id_col=\"id\",\n",
    "    date_col=\"date\",\n",
    "    target_col=\"sales\",\n",
    "    date_frequency=\"days\",\n",
    "    model_horizon=7,\n",
    "    max_forecast_horizon=28,\n",
    "    model=group_models,\n",
    ")"
   ]
  },
  {
   "cell_type": "code",
   "execution_count": 18,
   "metadata": {},
   "outputs": [
    {
     "name": "stdout",
     "output_type": "stream",
     "text": [
      "+-----+--------------------+--------------------+--------------------+--------------------+---------------+\n",
      "|group|    forecast_horizon|               model|          start_time|            end_time|elapsed_seconds|\n",
      "+-----+--------------------+--------------------+--------------------+--------------------+---------------+\n",
      "| CA_2|[[1, 2, 3, 4, 5, ...|[�\u0003clightgbm.skle...|11-Apr-2023 (03:4...|11-Apr-2023 (03:4...|            0.4|\n",
      "| CA_3|[[1, 2, 3, 4, 5, ...|[�\u0003clightgbm.skle...|11-Apr-2023 (03:4...|11-Apr-2023 (03:4...|            0.5|\n",
      "| WI_2|[[1, 2, 3, 4, 5, ...|[�\u0003clightgbm.skle...|11-Apr-2023 (03:4...|11-Apr-2023 (03:4...|            2.6|\n",
      "| WI_3|[[1, 2, 3, 4, 5, ...|[�\u0003clightgbm.skle...|11-Apr-2023 (03:4...|11-Apr-2023 (03:4...|            0.8|\n",
      "| CA_1|[[1, 2, 3, 4, 5, ...|[�\u0003clightgbm.skle...|11-Apr-2023 (03:4...|11-Apr-2023 (03:4...|            5.3|\n",
      "| CA_4|[[1, 2, 3, 4, 5, ...|[�\u0003clightgbm.skle...|11-Apr-2023 (03:4...|11-Apr-2023 (03:4...|            0.6|\n",
      "| TX_1|[[1, 2, 3, 4, 5, ...|[�\u0003clightgbm.skle...|11-Apr-2023 (03:4...|11-Apr-2023 (03:4...|            1.1|\n",
      "| TX_3|[[1, 2, 3, 4, 5, ...|[�\u0003clightgbm.skle...|11-Apr-2023 (03:4...|11-Apr-2023 (03:4...|            0.5|\n",
      "| WI_1|[[1, 2, 3, 4, 5, ...|[�\u0003clightgbm.skle...|11-Apr-2023 (03:4...|11-Apr-2023 (03:4...|            1.0|\n",
      "| TX_2|[[1, 2, 3, 4, 5, ...|[�\u0003clightgbm.skle...|11-Apr-2023 (03:4...|11-Apr-2023 (03:4...|            0.9|\n",
      "+-----+--------------------+--------------------+--------------------+--------------------+---------------+\n",
      "\n"
     ]
    }
   ],
   "source": [
    "forecast_flow.train(df_train).show()"
   ]
  }
 ],
 "metadata": {
  "application/vnd.databricks.v1+notebook": {
   "dashboards": [
    {
     "elements": [],
     "globalVars": {},
     "guid": "ef82ffd4-2993-4b79-8327-f644b750f2dd",
     "layoutOption": {
      "grid": true,
      "stack": true
     },
     "nuid": "a172d56a-d964-4505-ba66-5a7011220dbf",
     "origId": 1859120955398731,
     "title": "Untitled",
     "version": "DashboardViewV1",
     "width": 1024
    }
   ],
   "language": "python",
   "notebookMetadata": {
    "pythonIndentUnit": 4
   },
   "notebookName": "ForecastFlowML Demo",
   "notebookOrigID": 2597536912577418,
   "widgets": {}
  },
  "kernelspec": {
   "display_name": "spark",
   "language": "python",
   "name": "python3"
  },
  "language_info": {
   "codemirror_mode": {
    "name": "ipython",
    "version": 3
   },
   "file_extension": ".py",
   "mimetype": "text/x-python",
   "name": "python",
   "nbconvert_exporter": "python",
   "pygments_lexer": "ipython3",
   "version": "3.7.16"
  }
 },
 "nbformat": 4,
 "nbformat_minor": 0
}
